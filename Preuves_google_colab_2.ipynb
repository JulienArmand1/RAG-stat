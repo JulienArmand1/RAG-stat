{
  "nbformat": 4,
  "nbformat_minor": 0,
  "metadata": {
    "colab": {
      "provenance": [],
      "authorship_tag": "ABX9TyPTDhdYoZD8iqdPepSz2J9z",
      "include_colab_link": true
    },
    "kernelspec": {
      "name": "python3",
      "display_name": "Python 3"
    },
    "language_info": {
      "name": "python"
    }
  },
  "cells": [
    {
      "cell_type": "markdown",
      "metadata": {
        "id": "view-in-github",
        "colab_type": "text"
      },
      "source": [
        "<a href=\"https://colab.research.google.com/github/JulienArmand1/RAG-stat/blob/main/Preuves_google_colab_2.ipynb\" target=\"_parent\"><img src=\"https://colab.research.google.com/assets/colab-badge.svg\" alt=\"Open In Colab\"/></a>"
      ]
    },
    {
      "cell_type": "markdown",
      "source": [
        "# Thompson Sampling (TS)"
      ],
      "metadata": {
        "id": "DWWsl7Yy9C2b"
      }
    },
    {
      "cell_type": "markdown",
      "source": [
        "Dans cette étude, les récompenses sont affectées d’un bruit sous-gaussien d’écart-type $\\sigma$,  \n",
        "et Thompson Sampling utilise comme distribution a priori  \n",
        "$$\n",
        "N(\\mu_{0},\\,\\sigma_{0}^{2}).\n",
        "$$\n",
        "\n",
        "À chaque pas de temps, un agent TS choisit l’action $i_{t}$ en se basant sur des tirages  \n",
        "$$\n",
        "\\theta_{i,t} \\sim N\\bigl(m_{i,t},\\,s_{i,t}^{2}\\bigr),\n",
        "\\quad i = 1,\\dots,k,\n",
        "$$  \n",
        "où  \n",
        "$$\n",
        "m_{i,t}\n",
        "= \\frac{\\displaystyle\\frac{\\mu_{0}}{\\sigma_{0}^{2}}\n",
        "         + \\displaystyle\\frac{S_{i}(t-1)}{\\sigma^{2}}}\n",
        "       {\\displaystyle\\frac{1}{\\sigma_{0}^{2}}\n",
        "         + \\displaystyle\\frac{N_{i}(t-1)}{\\sigma^{2}}},\n",
        "\\qquad\n",
        "s_{i,t}^{2}\n",
        "= \\Bigl(\\tfrac{1}{\\sigma_{0}^{2}} + \\tfrac{N_{i}(t-1)}{\\sigma^{2}}\\Bigr)^{-1}.\n",
        "$$\n",
        "\n",
        "Enfin, l’action choisie est  \n",
        "$$\n",
        "i_{t} \\;=\\; \\arg\\max_{i\\in\\{1,\\dots,k\\}} \\theta_{i,t}.\n",
        "$$\n"
      ],
      "metadata": {
        "id": "wJyQkBi0Fb3A"
      }
    },
    {
      "cell_type": "markdown",
      "source": [
        "# Simple Game"
      ],
      "metadata": {
        "id": "iErBoaJ8FfaK"
      }
    },
    {
      "cell_type": "markdown",
      "source": [
        "\n",
        "\\begin{array}{c|cc}\n",
        " & \\textbf{Action B (colonne)} & \\textbf{Action A (colonne)} \\\\[0.5ex]\n",
        "\\hline\n",
        "\\textbf{Action A (ligne)} & 1 & 0 \\\\[1ex]\n",
        "\\textbf{Action B (ligne)} & 0 & 1 - \\Delta\n",
        "\\end{array}\n",
        "\n",
        "\n",
        "\n",
        "où :\n",
        "- chaque joueur (ou l’agent) choisit soit \\(A\\), soit \\(B\\),  \n",
        "- les gains sont ceux de la case correspondante,  \n",
        "- ($1>\\Delta > 0$) est le **gap de sous-optimalité** (la perte si les deux jouent \\(B, B) au lieu de (A, A)).  \n"
      ],
      "metadata": {
        "id": "Ag5Tl9YU_x9U"
      }
    },
    {
      "cell_type": "markdown",
      "source": [
        "Je pose les \"états\" possibles de notre système à deux agents  $(a,b,c,d)$ :\n",
        "$$\n",
        "\\text{Pour tout }t\\in\\mathbb{N},\\quad\n",
        "\\begin{aligned}\n",
        "a &= N_{(A,A)}(t-1),\\\\\n",
        "b &= N_{(A,B)}(t-1),\\\\\n",
        "c &= N_{(B,A)}(t-1),\\\\\n",
        "d &= N_{(B,B)}(t-1).\n",
        "\\end{aligned}\n",
        "$$"
      ],
      "metadata": {
        "id": "wC_F-A9yFG06"
      }
    },
    {
      "cell_type": "markdown",
      "source": [
        "## Initialisation des variables importantes pour le cas sans bruit ($\\sigma = 0 $)"
      ],
      "metadata": {
        "id": "eOSqUQQI1LrM"
      }
    },
    {
      "cell_type": "markdown",
      "source": [
        "$\\sigma_{0}=1/2$, car la variabilité causée par l'adversaire peut se représenté par une loi 1/2-$\\sigma$ sous-gausienne. <br>\n",
        "$\\mu_{0} = 1$, par hypothèse<br>\n",
        "$\\sigma_{0}^{2} = 1$, par hypothèse <br>\n",
        "On peut alors remplacer ces valeurs dans les expressions de $m_{i,t}$ et $s_{i,t}^{2}$ pour obtenir :"
      ],
      "metadata": {
        "id": "kLbSaKtuZmAt"
      }
    },
    {
      "cell_type": "markdown",
      "source": [
        "$$\n",
        "m_{i,t}\n",
        "= \\frac{\\displaystyle\\frac{(1)}{(1)}\n",
        "         + \\displaystyle\\frac{S_{i}(t-1)}{(1/2)^{2}}}\n",
        "       {\\displaystyle\\frac{1}{(1)}\n",
        "         + \\displaystyle\\frac{N_{i}(t-1)}{(1/2)^{2}}},\n",
        "\\qquad\n",
        "s_{i,t}^{2}\n",
        "= \\Bigl(\\tfrac{1}{(1)} + \\tfrac{N_{i}(t-1)}{(1/2)^{2}}\\Bigr)^{-1}.\n",
        "$$"
      ],
      "metadata": {
        "id": "dsszRjoPbTZh"
      }
    },
    {
      "cell_type": "markdown",
      "source": [
        "\\begin{align*}\n",
        "m_{i,t} &= \\frac{1 + 4\\,S_{i}(t-1)}{1 + 4\\,N_{i}(t-1)}, \\qquad\n",
        "s_{i,t}^{2} = \\frac{1}{1 + 4\\,N_{i}(t-1)}.\n",
        "\\end{align*}"
      ],
      "metadata": {
        "id": "37_mEVEbddmA"
      }
    },
    {
      "cell_type": "markdown",
      "source": [
        "Je pose les \"états\" possibles de notre système à deux agents  $(a,b,c,d)$ :\n",
        "$$\n",
        "\\text{Pour tout }t\\in\\mathbb{N},\\quad\n",
        "\\begin{aligned}\n",
        "a &= N_{(A,A)}(t-1),\\\\\n",
        "b &= N_{(A,B)}(t-1),\\\\\n",
        "c &= N_{(B,A)}(t-1),\\\\\n",
        "d &= N_{(B,B)}(t-1).\n",
        "\\end{aligned}\n",
        "$$"
      ],
      "metadata": {
        "id": "9Xf4f9B-9anb"
      }
    },
    {
      "cell_type": "markdown",
      "source": [
        "Je peux alors réécrire les expressions de $m_{i,t}$ et $s_{i,t}^{2}$  généralisée pour chacun des agent $p \\in  {1,2}$ ($m_{i,p,t}$ et $s_{i,p,t}^{2}$):\n",
        "\\begin{align*}\n",
        "m_{A,1,t} &= \\frac{1 + 4\\,a}{1 + 4\\,(a+b)}, \\qquad\n",
        "s_{A,1,t}^{2} = \\frac{1}{1 + 4\\,(a+b)},\\\\[1ex]\n",
        "m_{B,1,t} &= \\frac{1 + 4\\,d\\,(1-\\Delta)}{1 + 4\\,(c+d)}, \\qquad\n",
        "s_{B,1,t}^{2} = \\frac{1}{1 + 4\\,(c+d)},\\\\[1ex]\n",
        "m_{A,2,t} &= \\frac{1 + 4\\,a}{1 + 4\\,(a+c)}, \\qquad\n",
        "s_{A,2,t}^{2} = \\frac{1}{1 + 4\\,(a+c)},\\\\[1ex]\n",
        "m_{B,2,t} &= \\frac{1 + 4\\,d\\,(1-\\Delta)}{1 + 4\\,(b+d)}, \\qquad\n",
        "s_{B,2,t}^{2} = \\frac{1}{1 + 4\\,(b+d)}.\\\\[1ex]\n",
        "\\end{align*}"
      ],
      "metadata": {
        "id": "OuWVYdIa-8B-"
      }
    },
    {
      "cell_type": "markdown",
      "source": [
        "## Calculs pour le cas sans bruit ($\\sigma = 0 $)"
      ],
      "metadata": {
        "id": "En3Z3Zk4EfLL"
      }
    },
    {
      "cell_type": "markdown",
      "source": [
        "1. Pour commencer, on peut vérifier les conditions sur les états possibles $(a,b,c,d)$ qui entraine $m_{A,1,t} < m_{B,1,t}$ et $m_{A,2,t} < m_{B,2,t}$\n"
      ],
      "metadata": {
        "id": "lZCbpH3nBq_6"
      }
    },
    {
      "cell_type": "markdown",
      "source": [
        "\n",
        "$$\n",
        "\\begin{aligned}\n",
        "\\frac{1 + 4a}{1 + 4(a+b)}\n",
        "&< \\frac{1 + 4d\\,(1-\\Delta)}{1 + 4(c+d)},\n",
        "\\\\[1ex]\n",
        "\\end{aligned}\n",
        "$$\n",
        "\n",
        "$$\n",
        "\\begin{aligned}\n",
        "\\frac{1 + 4a}{1 + 4(a+c)}\n",
        "&< \\frac{1 + 4d\\,(1-\\Delta)}{1 + 4(b+d)}\n",
        "\\\\[1ex]\n",
        "\\end{aligned}\n",
        "$$\n",
        "\n",
        "\n",
        "\n"
      ],
      "metadata": {
        "id": "1mykQ4dEGr1y"
      }
    },
    {
      "cell_type": "markdown",
      "source": [
        "\n",
        "\n",
        "$$\n",
        "\\begin{aligned}\n",
        "f1(a)\n",
        "&= \\frac{1 + 4d\\,(1-\\Delta)}{1 + 4(c+d)}-\\frac{1 + 4a}{1 + 4(a+b)}\n",
        "\\\\[1ex]\n",
        "f2(a)\n",
        "&= \\frac{1 + 4d\\,(1-\\Delta)}{1 + 4(b+d)}-\\frac{1 + 4a}{1 + 4(a+c)}\n",
        "\\\\[1ex]\n",
        "\\end{aligned}\n",
        "$$\n",
        "\n"
      ],
      "metadata": {
        "id": "boPYk43IoHOx"
      }
    },
    {
      "cell_type": "markdown",
      "source": [
        "Les états qui respectent ces conditions doivent respecter $f1(a)>0$ et $f2(a)>0$\n",
        "\n"
      ],
      "metadata": {
        "id": "v3C4f3AaoY6Z"
      }
    },
    {
      "cell_type": "markdown",
      "source": [
        "En posant $a=a, b=\\alpha_{1}\\,a,c=\\alpha_{2}\\,a, d=\\alpha_{3}\\,a$, on obtient :\n",
        "$$\n",
        "\\begin{aligned}\n",
        "f1(a)\n",
        "&= \\frac{1 + 4\\,\\alpha_{3}\\,a\\,(1-\\Delta)}{1 + 4\\,a\\,(\\alpha_{2}+\\alpha_{3})}-\\frac{1 + 4a}{1 + 4\\,a(1+\\alpha_{1})}\n",
        "\\\\[1ex]\n",
        "f2(a)\n",
        "&= \\frac{1 + 4\\,\\alpha_{3}\\,a\\,(1-\\Delta)}{1 + 4\\,a\\,(\\alpha_{1}+\\alpha_{3})}-\\frac{1 + 4a}{1 + 4\\,a(1+\\alpha_{2})}\n",
        "\\\\[1ex]\n",
        "\\end{aligned}\n",
        "$$"
      ],
      "metadata": {
        "id": "HNvdM0FPo8r_"
      }
    },
    {
      "cell_type": "markdown",
      "source": [
        "\n",
        "\\begin{aligned}\n",
        "f_1(a) &=\n",
        "\\frac{\n",
        "  16\\bigl[\\alpha_{1}\\,\\alpha_{3}(1-\\Delta)\\;-\\;\\alpha_{2}\\;-\\;\\Delta\\,\\alpha_{3}\\bigr]\\,a^2\n",
        "  \\;+\\;4\\bigl[\\alpha_{1}-\\alpha_{2}-\\Delta\\,\\alpha_{3}\\bigr]\\,a\n",
        "}{\n",
        "  16\\bigl[\\alpha_{1}\\,\\alpha_{2}+\\alpha_{1}\\,\\alpha_{3}+\\alpha_{2}+\\alpha_{3}\\bigr]\\,a^2\n",
        "  \\;+\\;4\\bigl[\\alpha_{1}+\\alpha_{2}+\\alpha_{3}+1\\bigr]\\,a\n",
        "  \\;+\\;1\n",
        "},\\\\[1ex]\n",
        "f_2(a) &=\n",
        "\\frac{\n",
        "  16\\bigl[\\alpha_{2}\\,\\alpha_{3}(1-\\Delta)\\;-\\;\\alpha_{1}\\;-\\;\\Delta\\,\\alpha_{3}\\bigr]\\,a^2\n",
        "  \\;+\\;4\\bigl[\\alpha_{2}-\\alpha_{1}-\\Delta\\,\\alpha_{3}\\bigr]\\,a\n",
        "}{\n",
        "  16\\bigl[\\alpha_{1}\\,\\alpha_{2}+\\alpha_{1}+\\alpha_{2}\\,\\alpha_{3}+\\alpha_{3}\\bigr]\\,a^2\n",
        "  \\;+\\;4\\bigl[\\alpha_{1}+\\alpha_{2}+\\alpha_{3}+1\\bigr]\\,a\n",
        "  \\;+\\;1\n",
        "}.\n",
        "\\end{aligned}\n",
        "\n"
      ],
      "metadata": {
        "id": "4GbGpvr-uY7x"
      }
    },
    {
      "cell_type": "markdown",
      "source": [
        "les dénominateurs sont positifs, le signe des deux fonctions dépendent des numérateurs seulement. Les numérateurs ont une forme quadratique."
      ],
      "metadata": {
        "id": "MCv9qhTdumbJ"
      }
    },
    {
      "cell_type": "code",
      "source": [
        "# Voici une première recherche pour trouver les valeurs alpha possibles\n",
        "\n",
        "import numpy as np\n",
        "import matplotlib.pyplot as plt\n",
        "\n",
        "alpha1 = 2\n",
        "alpha2 = 3\n",
        "alpha3 = 8\n",
        "Delta = 0.5\n",
        "\n",
        "\n",
        "\n",
        "def N1(a):\n",
        "    return (16*(alpha1*alpha3*(1-Delta) - alpha2 - Delta*alpha3)*a**2\n",
        "            + 4*(alpha1 - alpha2 - Delta*alpha3)*a)\n",
        "\n",
        "def N2(a):\n",
        "    return (16*(alpha2*alpha3*(1-Delta) - alpha1 - Delta*alpha3)*a**2\n",
        "            + 4*(alpha2 - alpha1 - Delta*alpha3)*a)\n",
        "\n",
        "# Intervalle de a\n",
        "a_values = np.linspace(2, 100, 400)\n",
        "\n",
        "# Tracé des deux numérateurs sur la même figure\n",
        "plt.figure()\n",
        "plt.plot(a_values, N1(a_values), label='N1(a)')\n",
        "plt.plot(a_values, N2(a_values), label='N2(a)')\n",
        "plt.xlabel('a')\n",
        "plt.ylabel('Numérateurs')\n",
        "plt.title('Numérateurs N1(a) et N2(a) en fonction de a')\n",
        "plt.legend()\n",
        "plt.grid(True)\n",
        "plt.show()"
      ],
      "metadata": {
        "colab": {
          "base_uri": "https://localhost:8080/",
          "height": 472
        },
        "id": "-Ax0pk-5sDqr",
        "outputId": "004640d1-53ab-4d20-e7eb-5ebe3f5ca55f"
      },
      "execution_count": null,
      "outputs": [
        {
          "output_type": "display_data",
          "data": {
            "text/plain": [
              "<Figure size 640x480 with 1 Axes>"
            ],
            "image/png": "[encoded data removed]"
          },
          "metadata": {}
        }
      ]
    },
    {
      "cell_type": "markdown",
      "source": [
        "Ensuite, étant donné que le numérateur est un polynôme du second degré, on peut se concentrer sur son terme dominant et en déduire (en fixant la relation entre a et d avec le paramètre $\\alpha_{3}$ des relations entre $\\alpha_{1}$ et $\\alpha_{2}$):"
      ],
      "metadata": {
        "id": "BjumO0kR0e6H"
      }
    },
    {
      "cell_type": "code",
      "source": [
        "import numpy as np\n",
        "import matplotlib.pyplot as plt\n",
        "\n",
        "# Paramètres pour l'illustration\n",
        "Delta = 0.25\n",
        "alpha3 = 9\n",
        "\n",
        "# Définition des conditions\n",
        "def cond1(a1, a2):\n",
        "    return a1 > (a2 + Delta * alpha3) / (alpha3 * (1 - Delta))\n",
        "\n",
        "def cond2(a1, a2):\n",
        "    return a2 > (a1 + Delta * alpha3) / (alpha3 * (1 - Delta))\n",
        "\n",
        "# Grille de valeurs pour alpha1 et alpha2\n",
        "a1_vals = np.linspace(0, 10, 400)\n",
        "a2_vals = np.linspace(0, 10, 400)\n",
        "A1, A2 = np.meshgrid(a1_vals, a2_vals)\n",
        "\n",
        "# Calcul du masque de la région\n",
        "mask = cond1(A1, A2) & cond2(A1, A2)\n",
        "\n",
        "# Tracé\n",
        "plt.figure(figsize=(6, 6))\n",
        "plt.contourf(A1, A2, mask, levels=[-0.5, 0.5, 1.5], colors=['white', 'lightblue'], alpha=0.5)\n",
        "\n",
        "# Lignes frontières\n",
        "plt.plot((a2_vals + Delta * alpha3) / (alpha3 * (1 - Delta)), a2_vals, 'r-', label=r'$\\alpha_1=\\frac{\\alpha_2+\\Delta\\alpha_3}{\\alpha_3(1-\\Delta)}$')\n",
        "plt.plot(a1_vals, (a1_vals + Delta * alpha3) / (alpha3 * (1 - Delta)), 'g-', label=r'$\\alpha_2=\\frac{\\alpha_1+\\Delta\\alpha_3}{\\alpha_3(1-\\Delta)}$')\n",
        "\n",
        "plt.xlim(0, 5)\n",
        "plt.ylim(0, 5)\n",
        "plt.xlabel(r'$\\alpha_1$')\n",
        "plt.ylabel(r'$\\alpha_2$')\n",
        "plt.title(r'Région $(\\alpha_1,\\alpha_2)$ vérifiant les deux conditions')\n",
        "plt.legend()\n",
        "plt.grid(True)\n",
        "plt.show()\n"
      ],
      "metadata": {
        "colab": {
          "base_uri": "https://localhost:8080/",
          "height": 568
        },
        "id": "h2fyvYa-pC77",
        "outputId": "59f5ae6e-177d-4320-acb9-80ee3c456f59"
      },
      "execution_count": null,
      "outputs": [
        {
          "output_type": "display_data",
          "data": {
            "text/plain": [
              "<Figure size 600x600 with 1 Axes>"
            ],
            "image/png": "[encoded data removed]"
          },
          "metadata": {}
        }
      ]
    },
    {
      "cell_type": "markdown",
      "source": [
        "En résumé, on doit avoir $\\alpha_{1}>\\frac{\\alpha_{2}+Δ\\,\\alpha{3}}{\\alpha{3}\\,(1-Δ)}$ et $\\alpha_{2}>\\frac{\\alpha_{1}+Δ\\,\\alpha{3}}{\\alpha{3}\\,(1-Δ)}$ et $\\alpha_{3}>\\frac{1}{1-Δ}$."
      ],
      "metadata": {
        "id": "VdCnVY8W3I5r"
      }
    },
    {
      "cell_type": "markdown",
      "source": [
        "Voici un mini-code illustrant comment les probabilités de sélection de chaque action influencent les valeurs des paramètres alpha :"
      ],
      "metadata": {
        "id": "LPiOtWs32p1u"
      }
    },
    {
      "cell_type": "code",
      "source": [
        "# p1, p2: Probabilités de jouer B\n",
        "p1=0.90\n",
        "p2=0.90\n",
        "\n",
        "P = np.array([[p1*p2,(1-p1)*p2],[(1-p2)*p1,(1-p1)*(1-p2)]])\n",
        "print(P)\n",
        "P2 = P/P[1,1]\n",
        "print(P2)"
      ],
      "metadata": {
        "colab": {
          "base_uri": "https://localhost:8080/"
        },
        "id": "NnncMGtDaNo1",
        "outputId": "b5ec3f60-0487-411f-b645-6245a507b6a9"
      },
      "execution_count": null,
      "outputs": [
        {
          "output_type": "stream",
          "name": "stdout",
          "text": [
            "[[0.81 0.09]\n",
            " [0.09 0.01]]\n",
            "[[81.  9.]\n",
            " [ 9.  1.]]\n"
          ]
        }
      ]
    },
    {
      "cell_type": "markdown",
      "source": [
        "## Autres codes :"
      ],
      "metadata": {
        "id": "Afk9cHpUx-Kz"
      }
    },
    {
      "cell_type": "code",
      "source": [
        "import numpy as np\n",
        "import pandas as pd\n",
        "import math\n",
        "from scipy.stats import norm\n",
        "import matplotlib.pyplot as plt\n",
        "\n",
        "def compute_p1_p2(state):\n",
        "    a, b, c, d = state\n",
        "    mu1 = (1 + 4*a) / (1 + 4*(a+b)) - (1 + 2*d) / (1 + 4*(c+d))\n",
        "    var1 = 1 / (1 + 4*(a+b)) + 1 / (1 + 4*(c+d))\n",
        "    p1 = 1 - norm.cdf(0, loc=mu1, scale=math.sqrt(var1))\n",
        "\n",
        "    mu2 = (1 + 4*a) / (1 + 4*(a+c)) - (1 + 2*d) / (1 + 4*(b+d))\n",
        "    var2 = 1 / (1 + 4*(a+c)) + 1 / (1 + 4*(b+d))\n",
        "    p2 = 1 - norm.cdf(0, loc=mu2, scale=math.sqrt(var2))\n",
        "\n",
        "    return p1, p2\n",
        "\n",
        "def weighted_mean_PAA(n_max):\n",
        "    pr = {(0,1,1,0): 1.0}\n",
        "    weighted_means = []\n",
        "\n",
        "    for n in range(1, n_max+1):\n",
        "        new_pr = {}\n",
        "        for state, prob in pr.items():\n",
        "            p1, p2 = compute_p1_p2(state)\n",
        "            for inc_state, trans in [\n",
        "                ((state[0]+1, state[1], state[2], state[3]), p1 * p2),\n",
        "                ((state[0], state[1]+1, state[2], state[3]), p1 * (1-p2)),\n",
        "                ((state[0], state[1], state[2]+1, state[3]), (1-p1) * p2),\n",
        "                ((state[0], state[1], state[2], state[3]+1), (1-p1) * (1-p2))\n",
        "            ]:\n",
        "                new_pr[inc_state] = new_pr.get(inc_state, 0) + prob * trans\n",
        "\n",
        "        mean_paa = sum(prob * np.prod(compute_p1_p2(state)) for state, prob in new_pr.items())\n",
        "        weighted_means.append((n, mean_paa))\n",
        "        pr = new_pr\n",
        "\n",
        "    return pd.DataFrame(weighted_means, columns=['n', 'P(A,A)'])\n",
        "\n",
        "\n",
        "df_weighted = weighted_mean_PAA(50)\n",
        "\n",
        "plt.figure()\n",
        "plt.plot(df_weighted['n'], df_weighted['P(A,A)'])\n",
        "plt.xlabel('n')\n",
        "plt.ylabel('P(A,A)')\n",
        "plt.title('P(A,A) en fonction de n')\n",
        "plt.show()"
      ],
      "metadata": {
        "colab": {
          "base_uri": "https://localhost:8080/",
          "height": 472
        },
        "id": "GYWtJ_HgzXVK",
        "outputId": "e9b4e0b7-58f6-4d11-a1d2-191f1a6a52a6"
      },
      "execution_count": null,
      "outputs": [
        {
          "output_type": "display_data",
          "data": {
            "text/plain": [
              "<Figure size 640x480 with 1 Axes>"
            ],
            "image/png": "[encoded data removed]"
          },
          "metadata": {}
        }
      ]
    },
    {
      "cell_type": "markdown",
      "source": [
        "Le code suivant permet de vérfier les probabilités de certains états :"
      ],
      "metadata": {
        "id": "jlMRPl6Sy-3t"
      }
    },
    {
      "cell_type": "code",
      "source": [
        "import numpy as np\n",
        "import pandas as pd\n",
        "from scipy.stats import norm\n",
        "\n",
        "max_n = 50\n",
        "\n",
        "records = []\n",
        "for n in range(2, max_n):\n",
        "    for a in range(0, n):\n",
        "        for b in range(0, n - a + 1):\n",
        "            for c in range(0, n - a - b + 1):\n",
        "                d = n - a - b - c\n",
        "                if (a + b)*(c + d) *(a + c) * (b + d) == 0:\n",
        "                    continue\n",
        "                records.append((a, b, c, d, n))\n",
        "\n",
        "arr = np.array(records, dtype=int)\n",
        "a = arr[:, 0]\n",
        "b = arr[:, 1]\n",
        "c = arr[:, 2]\n",
        "d = arr[:, 3]\n",
        "n = arr[:, 4]\n",
        "\n",
        "mu1     = (1 + 4*a) / (1 + 4*(a + b)) - (1 + 2*d) / (1 + 4*(c + d))\n",
        "var1    = 1 / (1 + 4*(a + b))        + 1 / (1 + 4*(c + d))\n",
        "mu2     = (1 + 4*a) / (1 + 4*(a + c)) - (1 + 2*d) / (1 + 4*(b + d))\n",
        "var2    = 1 / (1 + 4*(a + c))        + 1 / (1 + 4*(b + d))\n",
        "\n",
        "p1      = 1 - norm.cdf(0, loc=mu1, scale=np.sqrt(var1))\n",
        "p2      = 1 - norm.cdf(0, loc=mu2, scale=np.sqrt(var2))\n",
        "\n",
        "P_AA    = p1 * p2\n",
        "P_AB    = p1 * (1 - p2)\n",
        "P_BA    = (1 - p1) * p2\n",
        "P_BB    = (1 - p1) * (1 - p2)\n",
        "\n",
        "mu1_a1 = (1 + 4*(a+1)) / (1 + 4*((a+1) + b)) - (1 + 2*d) / (1 + 4*(c + d))\n",
        "var1_a1 = 1 / (1 + 4*((a+1) + b)) + 1 / (1 + 4*(c + d))\n",
        "mu2_a1 = (1 + 4*(a+1)) / (1 + 4*((a+1) + c)) - (1 + 2*d) / (1 + 4*(b + d))\n",
        "var2_a1 = 1 / (1 + 4*((a+1) + c)) + 1 / (1 + 4*(b + d))\n",
        "\n",
        "p1_a1 = 1 - norm.cdf(0, loc=mu1_a1, scale=np.sqrt(var1_a1))\n",
        "p2_a1 = 1 - norm.cdf(0, loc=mu2_a1, scale=np.sqrt(var2_a1))\n",
        "P_AA_a1 = p1_a1 * p2_a1\n",
        "P_AB_a1 = p1_a1 * (1 - p2_a1)\n",
        "P_BA_a1 = (1 - p1_a1) * p2_a1\n",
        "P_BB_a1 = (1 - p1_a1) * (1 - p2_a1)\n",
        "\n",
        "mu1_b1 = (1 + 4*a) / (1 + 4*(a + (b+1))) - (1 + 2*d) / (1 + 4*(c + d))\n",
        "var1_b1 = 1 / (1 + 4*(a + (b+1))) + 1 / (1 + 4*(c + d))\n",
        "mu2_b1 = (1 + 4*a) / (1 + 4*(a + c)) - (1 + 2*d) / (1 + 4*((b+1) + d))\n",
        "var2_b1 = 1 / (1 + 4*(a + c)) + 1 / (1 + 4*((b+1) + d))\n",
        "\n",
        "p1_b1 = 1 - norm.cdf(0, loc=mu1_b1, scale=np.sqrt(var1_b1))\n",
        "p2_b1 = 1 - norm.cdf(0, loc=mu2_b1, scale=np.sqrt(var2_b1))\n",
        "P_AA_b1 = p1_b1 * p2_b1\n",
        "P_AB_b1 = p1_b1 * (1 - p2_b1)\n",
        "P_BA_b1 = (1 - p1_b1) * p2_b1\n",
        "P_BB_b1 = (1 - p1_b1) * (1 - p2_b1)\n",
        "\n",
        "mu1_c1 = (1 + 4*a) / (1 + 4*(a + b)) - (1 + 2*d) / (1 + 4*((c+1) + d))\n",
        "var1_c1 = 1 / (1 + 4*(a + b)) + 1 / (1 + 4*((c+1) + d))\n",
        "mu2_c1 = (1 + 4*a) / (1 + 4*((a + (c+1)))) - (1 + 2*d) / (1 + 4*(b + d))\n",
        "var2_c1 = 1 / (1 + 4*((a + (c+1)))) + 1 / (1 + 4*(b + d))\n",
        "\n",
        "p1_c1 = 1 - norm.cdf(0, loc=mu1_c1, scale=np.sqrt(var1_c1))\n",
        "p2_c1 = 1 - norm.cdf(0, loc=mu2_c1, scale=np.sqrt(var2_c1))\n",
        "P_AA_c1 = p1_c1 * p2_c1\n",
        "P_AB_c1 = p1_c1 * (1 - p2_c1)\n",
        "P_BA_c1 = (1 - p1_c1) * p2_c1\n",
        "P_BB_c1 = (1 - p1_c1) * (1 - p2_c1)\n",
        "\n",
        "mu1_d1 = (1 + 4*a) / (1 + 4*(a + b)) - (1 + 2*(d+1)) / (1 + 4*(c + (d+1)))\n",
        "var1_d1 = 1 / (1 + 4*(a + b)) + 1 / (1 + 4*(c + (d+1)))\n",
        "mu2_d1 = (1 + 4*a) / (1 + 4*(a + c)) - (1 + 2*(d+1)) / (1 + 4*(b + (d+1)))\n",
        "var2_d1 = 1 / (1 + 4*(a + c)) + 1 / (1 + 4*(b + (d+1)))\n",
        "\n",
        "p1_d1 = 1 - norm.cdf(0, loc=mu1_d1, scale=np.sqrt(var1_d1))\n",
        "p2_d1 = 1 - norm.cdf(0, loc=mu2_d1, scale=np.sqrt(var2_d1))\n",
        "P_AA_d1 = p1_d1 * p2_d1\n",
        "P_AB_d1 = p1_d1 * (1 - p2_d1)\n",
        "P_BA_d1 = (1 - p1_d1) * p2_d1\n",
        "P_BB_d1 = (1 - p1_d1) * (1 - p2_d1)\n",
        "\n",
        "delta_P = P_AA*P_AA_a1 + P_AB*P_AA_b1  + P_BA*P_AA_c1  + P_BB*P_AA_d1  - P_AA\n",
        "\n",
        "\n",
        "df = pd.DataFrame({\n",
        "    'a': a, 'b': b, 'c': c, 'd': d, 'n': n,\n",
        "    'P(A,A)':    P_AA,    'P(A,B)':    P_AB,    'P(B,A)':    P_BA,    'P(B,B)':    P_BB,\n",
        "    'P(A,A)_a+1':P_AA_a1, 'P(A,B)_a+1':P_AB_a1, 'P(B,A)_a+1':P_BA_a1, 'P(B,B)_a+1':P_BB_a1,\n",
        "    'P(A,A)_b+1':P_AA_b1, 'P(A,B)_b+1':P_AB_b1, 'P(B,A)_b+1':P_BA_b1, 'P(B,B)_b+1':P_BB_b1,\n",
        "    'P(A,A)_c+1':P_AA_c1, 'P(A,B)_c+1':P_AB_c1, 'P(B,A)_c+1':P_BA_c1, 'P(B,B)_c+1':P_BB_c1,\n",
        "    'P(A,A)_d+1':P_AA_d1, 'P(A,B)_d+1':P_AB_d1, 'P(B,A)_d+1':P_BA_d1, 'P(B,B)_d+1':P_BB_d1,\n",
        "    'delta_P': delta_P\n",
        "})\n",
        "\n",
        "df\n",
        "\n",
        "result = df[(df['a'] == 3) & (df['delta_P'] < 0)]\n",
        "result2 = df[(df['n'] < 50) & (df['a'] < 4) & (df['d'] > 20)]\n",
        "print(result2)"
      ],
      "metadata": {
        "colab": {
          "base_uri": "https://localhost:8080/"
        },
        "id": "rDfGlG1wyjJW",
        "outputId": "dafd74ea-3182-4fac-b78f-9c150100bf2e"
      },
      "execution_count": null,
      "outputs": [
        {
          "output_type": "stream",
          "name": "stdout",
          "text": [
            "        a   b  c   d   n    P(A,A)    P(A,B)    P(B,A)    P(B,B)  P(A,A)_a+1  \\\n",
            "11956   1   0  0  21  22  0.737079  0.121454  0.121454  0.020013    0.847636   \n",
            "13937   0   1  1  21  23  0.072321  0.196605  0.196605  0.534470    0.338724   \n",
            "14190   1   0  0  22  23  0.737816  0.121146  0.121146  0.019892    0.848667   \n",
            "14191   1   0  1  21  23  0.483804  0.385809  0.072540  0.057847    0.683121   \n",
            "14212   1   1  0  21  23  0.483804  0.072540  0.385809  0.057847    0.683121   \n",
            "...    ..  .. ..  ..  ..       ...       ...       ...       ...         ...   \n",
            "270421  3  23  1  22  49  0.005606  0.000120  0.973443  0.020831    0.010017   \n",
            "270422  3  23  2  21  49  0.008264  0.000450  0.940142  0.051145    0.014677   \n",
            "270444  3  24  0  22  49  0.003408  0.000014  0.992415  0.004163    0.006095   \n",
            "270445  3  24  1  21  49  0.005330  0.000102  0.975817  0.018750    0.009387   \n",
            "270467  3  25  0  21  49  0.003231  0.000012  0.993034  0.003723    0.005695   \n",
            "\n",
            "        ...  P(B,B)_b+1  P(A,A)_c+1  P(A,B)_c+1  P(B,A)_c+1  P(B,B)_c+1  \\\n",
            "11956   ...    0.057847    0.483804    0.385809    0.072540    0.057847   \n",
            "13937   ...    0.613222    0.040800    0.243028    0.102950    0.613222   \n",
            "14190   ...    0.057820    0.484134    0.385417    0.072629    0.057820   \n",
            "14191   ...    0.174724    0.300633    0.578591    0.041297    0.079479   \n",
            "14212   ...    0.079479    0.338724    0.243276    0.243276    0.174724   \n",
            "...     ...         ...         ...         ...         ...         ...   \n",
            "270421  ...    0.019718    0.007442    0.000425    0.938516    0.053617   \n",
            "270422  ...    0.048614    0.010512    0.001134    0.892130    0.096224   \n",
            "270444  ...    0.003928    0.004802    0.000097    0.975383    0.019718   \n",
            "270445  ...    0.017770    0.007169    0.000369    0.943847    0.048614   \n",
            "270467  ...    0.003519    0.004614    0.000084    0.977532    0.017770   \n",
            "\n",
            "        P(A,A)_d+1  P(A,B)_d+1  P(B,A)_d+1  P(B,B)_d+1   delta_P  \n",
            "11956     0.737816    0.121146    0.121146    0.019892  0.019982  \n",
            "13937     0.071916    0.196256    0.196256    0.535572  0.006656  \n",
            "14190     0.738492    0.120864    0.120864    0.019781  0.020336  \n",
            "14191     0.484134    0.385417    0.072629    0.057820  0.027189  \n",
            "14212     0.484134    0.072629    0.385417    0.057820  0.027189  \n",
            "...            ...         ...         ...         ...       ...  \n",
            "270421    0.005098    0.000114    0.972946    0.021842  0.001801  \n",
            "270422    0.007442    0.000425    0.938516    0.053617  0.002124  \n",
            "270444    0.003103    0.000014    0.992504    0.004379  0.001392  \n",
            "270445    0.004802    0.000097    0.975383    0.019718  0.001807  \n",
            "270467    0.002915    0.000012    0.993145    0.003928  0.001380  \n",
            "\n",
            "[14644 rows x 26 columns]\n"
          ]
        }
      ]
    }
  ]
}